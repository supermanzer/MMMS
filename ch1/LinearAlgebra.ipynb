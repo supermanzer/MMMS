{
 "cells": [
  {
   "cell_type": "code",
   "execution_count": 2,
   "metadata": {},
   "outputs": [],
   "source": [
    "import numpy as np\n"
   ]
  },
  {
   "cell_type": "markdown",
   "metadata": {},
   "source": [
    "## Simultaneous linear equations\n",
    "\n",
    "The purpose of linear algebra is to allow us to solive sets of simultaneous linear equations.  E.g.\n",
    "$$\n",
    "x + 2y +z = 8\n",
    "$$\n",
    "$$\n",
    "2x + 3y - 2z = 2\n",
    "$$\n",
    "$$\n",
    "x - 2y + 3z = 6\n",
    "$$\n",
    "This can be easily represented using matrices and vectors to the equation $ Ax = b $\n",
    "\n",
    "We can use NumPy to define the matrices for $A$ and $b$.  These will also give us access to the methods an properties to solve for **x**$ = (x, y, x)$"
   ]
  },
  {
   "cell_type": "code",
   "execution_count": 5,
   "metadata": {},
   "outputs": [
    {
     "name": "stdout",
     "output_type": "stream",
     "text": [
      "[[ 1  2  1]\n",
      " [ 2  3 -2]\n",
      " [ 1 -2  3]]\n",
      "[[8]\n",
      " [2]\n",
      " [6]]\n"
     ]
    }
   ],
   "source": [
    "A = np.matrix('1 2 1; 2 3 -2; 1 -2 3')  # A maxtric of coefficients - defined as a string kind of following MATLAB syntax\n",
    "print(A)\n",
    "\n",
    "b = np.matrix('8;2;6') # A columnar vector of our right hand side values\n",
    "print(b)\n"
   ]
  },
  {
   "cell_type": "markdown",
   "metadata": {},
   "source": [
    "## Solution\n",
    "This bit is still pretty easy.  Since our relationship is defined as $Ax=b$ we just divide both sides by $A$.  This is the same as multiplying by the inverse which is how we will proceed here.  Thankfully NumPy makes accessing the inverse of a matric pretty easy.  Let's solve our equations for $ x, y, and z$"
   ]
  },
  {
   "cell_type": "code",
   "execution_count": 6,
   "metadata": {},
   "outputs": [
    {
     "name": "stdout",
     "output_type": "stream",
     "text": [
      "[[1.]\n",
      " [2.]\n",
      " [3.]]\n"
     ]
    }
   ],
   "source": [
    "x = A.I*b  # .I attribute is the inversion of the matrix A\n",
    "print(x)"
   ]
  },
  {
   "cell_type": "markdown",
   "metadata": {},
   "source": [
    "## Imperfect Matrices\n",
    "The above solution was so easy partially because our matrix and the equations that built it were well formed (i.e. independant equations and 1 equation for each variable).  Let's take a look at a situation where these conditions are not quite met.\n",
    "\n",
    "### Equations\n",
    "$$\n",
    "x + 2y + z = 8\n",
    "$$\n",
    "$$\n",
    "2x + 3y - 2z = 2\n",
    "$$\n",
    "$$\n",
    "3x + 5y -z = 10\n",
    "$$\n",
    "The issue we have here is that equation 3 is basically just the first two added together and therefore it is not linearly independent.  This means we functionally only have 2 equations for 3 unkowns.  We kind of know this won't work as we expect but let's give it a shot anyway"
   ]
  },
  {
   "cell_type": "code",
   "execution_count": 12,
   "metadata": {},
   "outputs": [
    {
     "name": "stdout",
     "output_type": "stream",
     "text": [
      "[[ 1  2  1]\n",
      " [ 2  3 -2]\n",
      " [ 3  5 -1]]\n",
      "[[ 8]\n",
      " [ 2]\n",
      " [10]]\n",
      "2\n",
      "-1.2582527612418447e-15\n"
     ]
    }
   ],
   "source": [
    "A = np.matrix([[1,2,1],[2,3,-2], [3, 5, -1]]) # Defining our coefficient matrix using a more Python native syntax (lists of lists)\n",
    "print(A)\n",
    "b = np.matrix([[8], [2], [10]])\n",
    "print(b)\n",
    "print(np.linalg.matrix_rank(A) )# Less than 3 means this matrix is rank deficient - this means we cannot proceed without some more mathematical trickery.\n",
    "print(np.linalg.det(A))  # The determinant is basically 0 and this means our matrix is singular."
   ]
  },
  {
   "cell_type": "markdown",
   "metadata": {},
   "source": [
    "## SVD - Decomposing our Matrix\n",
    "Without going through all the tedious derivation (because I don't want to look it all up) we can just assert that any matrix can be defined as composed of three components $A = USV$\n",
    "We are particularly interested in the S component which is a diagonal matrix of $MxM$ dimensions whose diagonal values are called _singular values_.  If our matrix is rank deficient then one or more may be zero.  This can lead to a tedious divide by zero error when attempting to invert the matrix.  Let's take a look at how we could correct that.\n",
    "\n",
    "Since s is a diagonal matrix where the only values of importance are on the diagonal, NumPy returns this as a vector."
   ]
  },
  {
   "cell_type": "code",
   "execution_count": 13,
   "metadata": {},
   "outputs": [
    {
     "name": "stdout",
     "output_type": "stream",
     "text": [
      "[7.37275014e+00 1.90854796e+00 3.51985320e-16]\n"
     ]
    }
   ],
   "source": [
    "u, s, vh = np.linalg.svd(A)\n",
    "print(s)  # THe problem is that third one, which is close enough to zero to cause us problems"
   ]
  },
  {
   "cell_type": "code",
   "execution_count": 15,
   "metadata": {},
   "outputs": [
    {
     "name": "stdout",
     "output_type": "stream",
     "text": [
      "[7.37275014 1.90854796 1.        ]\n"
     ]
    }
   ],
   "source": [
    "# We set our troublesome element equal to 1\n",
    "s[2] = 1\n",
    "print(s)"
   ]
  },
  {
   "cell_type": "code",
   "execution_count": 30,
   "metadata": {},
   "outputs": [],
   "source": [
    "# We invert this vector and then set the last element to 0 (insted of infinity)\n",
    "w = 1/s\n",
    "w[2] = 0\n",
    "BGI = vh * np.diag(w) * u.I #  A sneaky way to get our inverted A matrix"
   ]
  },
  {
   "cell_type": "code",
   "execution_count": 31,
   "metadata": {},
   "outputs": [
    {
     "data": {
      "text/plain": [
       "matrix([[ 0.25356619,  0.21431192, -0.91771568],\n",
       "        [-0.00122957,  0.05871447,  0.24346485],\n",
       "        [-0.43963443, -0.84154547, -0.28874086]])"
      ]
     },
     "execution_count": 31,
     "metadata": {},
     "output_type": "execute_result"
    }
   ],
   "source": [
    "BGI*A"
   ]
  },
  {
   "cell_type": "code",
   "execution_count": 32,
   "metadata": {},
   "outputs": [
    {
     "data": {
      "text/plain": [
       "matrix([[-2.07095701],\n",
       "        [ 0.8465939 ],\n",
       "        [-2.98894794]])"
      ]
     },
     "execution_count": 32,
     "metadata": {},
     "output_type": "execute_result"
    }
   ],
   "source": [
    "BGI*b"
   ]
  },
  {
   "cell_type": "markdown",
   "metadata": {},
   "source": [
    "## Final Thoughts\n",
    "I think there are likely some differences between the operations being called in NumPy vs MATLAB.  These values are not what I expected.  However, rather than spend too much time diving into why right now I'm going to push on and just be aware of the discrepancies.  I really just want to get to the fun stuff like analyzing sunspot activity or building multi-box models describing ion concentrations in the world ocean basins."
   ]
  },
  {
   "cell_type": "code",
   "execution_count": null,
   "metadata": {},
   "outputs": [],
   "source": []
  }
 ],
 "metadata": {
  "kernelspec": {
   "display_name": "Python 3.8.5 64-bit ('code_mmms': conda)",
   "language": "python",
   "name": "python38564bitcodemmmsconda6ffd75b074894f2aad491aadd6120341"
  },
  "language_info": {
   "codemirror_mode": {
    "name": "ipython",
    "version": 3
   },
   "file_extension": ".py",
   "mimetype": "text/x-python",
   "name": "python",
   "nbconvert_exporter": "python",
   "pygments_lexer": "ipython3",
   "version": "3.8.5"
  }
 },
 "nbformat": 4,
 "nbformat_minor": 4
}
